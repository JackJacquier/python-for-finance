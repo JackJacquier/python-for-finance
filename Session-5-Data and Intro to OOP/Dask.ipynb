{
 "cells": [
  {
   "cell_type": "markdown",
   "id": "ac3c8b55-5f74-428c-a871-a7224d1cfd11",
   "metadata": {},
   "source": [
    "# **`DASK`, AN ALTERNATIVE TO `PANDAS`**\n",
    "---\n",
    "<img src=\"Imperial_logo.png\" align = \"left\" width=200>\n",
    " <br><br>\n",
    " \n",
    "- Copyright (c) Antoine Jacquier, 2024. All rights reserved\n",
    "\n",
    "- Author: Jack Jacquier <a.jacquier@imperial.ac.uk>\n",
    "\n",
    "- Platform: Tested on Windows 10 with Python 3.9"
   ]
  },
  {
   "cell_type": "markdown",
   "id": "1ddc63f0-be08-47a7-918a-2b6b6f266090",
   "metadata": {},
   "source": [
    "# S\\&P 500 European options volume study .. from `pandas` to `dask`"
   ]
  },
  {
   "cell_type": "code",
   "execution_count": null,
   "id": "2d825a93-bc47-4930-958f-5347277f2581",
   "metadata": {},
   "outputs": [],
   "source": [
    "import numpy as np\n",
    "import pandas as pd\n",
    "import time\n",
    "import matplotlib.pylab as plt\n",
    "from datetime import timedelta"
   ]
  },
  {
   "cell_type": "code",
   "execution_count": null,
   "id": "f10bd156-d150-45fc-85c2-1cdc6b831b4e",
   "metadata": {},
   "outputs": [],
   "source": [
    "df = pd.read_csv(\"../Data files/SPXOptions2018.csv\")\n",
    "## Data from https://optionmetrics.com/, available via Imperial\n",
    "df.head()"
   ]
  },
  {
   "cell_type": "code",
   "execution_count": null,
   "id": "eeba7112-5167-4264-8f93-a08dee189ce8",
   "metadata": {},
   "outputs": [],
   "source": [
    "df.info()"
   ]
  },
  {
   "cell_type": "code",
   "execution_count": null,
   "id": "3da60177-3ee6-46c2-8565-9f5a82917d60",
   "metadata": {},
   "outputs": [],
   "source": [
    "df.memory_usage(index=True)"
   ]
  },
  {
   "cell_type": "code",
   "execution_count": null,
   "id": "10c69a1f-0685-41b6-8a2e-6790522f8c6f",
   "metadata": {},
   "outputs": [],
   "source": [
    "df.memory_usage(index=True).sum()"
   ]
  },
  {
   "cell_type": "code",
   "execution_count": null,
   "id": "85e8c550-9a6c-4ca7-a661-cd867edc4787",
   "metadata": {},
   "outputs": [],
   "source": [
    "df[\"date\"] = pd.to_datetime(df[\"date\"], format='%Y%m%d')\n",
    "df[\"exdate\"] = pd.to_datetime(df[\"exdate\"], format='%Y%m%d')\n",
    "df[\"timeToExpDays\"] = (df[\"exdate\"] - df[\"date\"]).dt.days ## expiry in days\n",
    "df.head()"
   ]
  },
  {
   "cell_type": "markdown",
   "id": "38dd3fde-9171-4586-875e-69a88663caee",
   "metadata": {},
   "source": [
    "## Analysis of the volume distribution"
   ]
  },
  {
   "cell_type": "code",
   "execution_count": null,
   "id": "a54ec094-0568-4a54-ba82-dd5b73b51207",
   "metadata": {},
   "outputs": [],
   "source": [
    "t0 = time.time()\n",
    "df_pandas_vol = df.groupby([\"timeToExpDays\"], dropna=False, observed=True).agg({\"volume\": \"sum\"})\n",
    "dt_pandas_groupby = time.time() - t0\n",
    "print(\"pandas time: \", dt_pandas_groupby)\n",
    "df_pandas_vol.head()"
   ]
  },
  {
   "cell_type": "code",
   "execution_count": null,
   "id": "be06ca29-2986-4ebd-989c-d1162958b834",
   "metadata": {},
   "outputs": [],
   "source": [
    "perc = (100./df_pandas_vol.sum()).values\n",
    "truncation_level = 200\n",
    "\n",
    "fig, ax1 = plt.subplots(figsize=(8, 4))\n",
    "\n",
    "ax1.set_xlabel(\"Time to expiration (in days)\")\n",
    "ax1.set_ylabel(\"Volume distribution (in %)\", color='black')\n",
    "ax1.tick_params(axis='y', labelcolor='black')\n",
    "ax1.plot(df_pandas_vol.index[:truncation_level], perc*df_pandas_vol[\"volume\"][:truncation_level], 'k.')\n",
    "\n",
    "\n",
    "ax2 = ax1.twinx()\n",
    "ax2.set_ylabel(\"Cumulative volume (in %)\", color='blue')\n",
    "ax2.tick_params(axis='y', labelcolor='blue')\n",
    "ax2.plot(df_pandas_vol.index[:truncation_level], perc*np.cumsum(df_pandas_vol[\"volume\"][:truncation_level]), 'b.')\n",
    "plt.title(\"Volume distribution in 2018 (in %)\")\n",
    "fig.tight_layout()\n",
    "plt.show()"
   ]
  },
  {
   "cell_type": "code",
   "execution_count": null,
   "id": "817e5330-4497-4b36-a6ac-b038385dcaed",
   "metadata": {},
   "outputs": [],
   "source": [
    "#del df"
   ]
  },
  {
   "cell_type": "markdown",
   "id": "9a55d787-fce5-481a-9de9-e4ffde236ffa",
   "metadata": {},
   "source": [
    "## Working with a much larger DataFrame (as an example of \"Big Data\")\n",
    "The cell below may be skipped and import the file directly from`pathToFile`"
   ]
  },
  {
   "cell_type": "code",
   "execution_count": null,
   "id": "90945563-7fcd-422c-9176-92a929da10d6",
   "metadata": {},
   "outputs": [],
   "source": [
    "## Cell that creates a very large file by copy/pasting the previous one (and changing the dates)\n",
    "## Note that the last line (saving it as .csv) takes a long time\n",
    "pathToFile = \"../largeDataFrame.csv\"\n",
    "df_large = pd.DataFrame()\n",
    "for i in range(1, 11):\n",
    "    df_temp = df.copy()\n",
    "    df_temp[\"date\"] = df_temp[\"date\"] - pd.Timedelta(days=1000*i)\n",
    "    df_large = pd.concat([df_large, df_temp])\n",
    "    print(i, df_large.count().iloc[0])\n",
    "\n",
    "del df_temp\n",
    "print(\"****************\")\n",
    "print(\"Saving to drive....\")\n",
    "df_large.to_csv(pathToFile)\n",
    "print(\"Saved to drive\")"
   ]
  },
  {
   "cell_type": "code",
   "execution_count": null,
   "id": "1839acdc-9ba6-4e1d-b885-1afa02b05c77",
   "metadata": {},
   "outputs": [],
   "source": [
    "pathToFile = \"../largeDataFrame.csv\"\n",
    "t0 = time.time()\n",
    "df_large = pd.read_csv(pathToFile)\n",
    "dt_pandas_import = time.time() - t0\n",
    "print(\"pandas import time:\", dt_pandas_import)"
   ]
  },
  {
   "cell_type": "code",
   "execution_count": null,
   "id": "31555152-b9ec-4861-b0ad-9d8eae91c083",
   "metadata": {},
   "outputs": [],
   "source": [
    "df_large.head()"
   ]
  },
  {
   "cell_type": "code",
   "execution_count": null,
   "id": "e0dd1cfa-9fa8-42d1-b267-0a51e487fa03",
   "metadata": {},
   "outputs": [],
   "source": [
    "df_large.info()"
   ]
  },
  {
   "cell_type": "code",
   "execution_count": null,
   "id": "4a7c57d0-76da-4a53-af09-14b41a0d2d35",
   "metadata": {},
   "outputs": [],
   "source": [
    "## Groupby action on the bigger DataFrame\n",
    "t0 = time.time()\n",
    "df_pandas_vol = df_large.groupby([\"timeToExpDays\"], dropna=False, observed=True).agg({\"volume\": \"sum\"})\n",
    "dt_pandas_groupby = time.time() - t0\n",
    "print(\"pandas time: \", dt_pandas_groupby)\n",
    "df_pandas_vol.head()"
   ]
  },
  {
   "cell_type": "code",
   "execution_count": null,
   "id": "79beb13c-718d-4710-b984-69fd98bd891d",
   "metadata": {},
   "outputs": [],
   "source": [
    "df_pandas_vol.info()"
   ]
  },
  {
   "cell_type": "markdown",
   "id": "99f79f8e-e871-4047-a26e-9c4dc67a9178",
   "metadata": {},
   "source": [
    "# Introducing `dask`\n",
    "\n",
    "\n",
    "Dask was created by Matthew Rocklin in December 2014.\n",
    "\n",
    "https://examples.dask.org/dataframe.html\n",
    "\n",
    "\n",
    "Examples of users:\n",
    "\n",
    "- Walmart for forecasting the demand for 500,000,000 store-item combinations: https://www.nvidia.com/en-us/glossary/dask/\n",
    "- \n",
    "Blue Yonder to process terabytes of data on a daily basi: https://tech.blueyonder.com/dask-usage-at-blue-yonder/\n",
    "- Capital One uses it for big data analytics: https://www.nvidia.com/en-us/glossary/dask/."
   ]
  },
  {
   "cell_type": "code",
   "execution_count": null,
   "id": "0968f849-ca14-4e31-8abc-243c31765192",
   "metadata": {},
   "outputs": [],
   "source": [
    "import dask.dataframe as dd"
   ]
  },
  {
   "cell_type": "code",
   "execution_count": null,
   "id": "4f505398-c125-4deb-8f8f-1fa531534315",
   "metadata": {},
   "outputs": [],
   "source": [
    "t0 = time.time()\n",
    "df_dask = dd.read_csv(pathToFile)\n",
    "dt_dask_import = time.time() - t0\n",
    "print(\"dask import time:\", dt_dask_import)\n",
    "\n",
    "df_dask.head()"
   ]
  },
  {
   "cell_type": "code",
   "execution_count": null,
   "id": "e4129445-91fb-4fb0-a70e-e9593b2789fe",
   "metadata": {},
   "outputs": [],
   "source": [
    "t0 = time.time()\n",
    "df_dask_volume = df_dask.groupby([\"timeToExpDays\"], dropna=False, observed=True).agg({\"volume\": \"sum\"})\n",
    "dt_dask_groupby = time.time() - t0\n",
    "print(\"dask time: \", dt_dask_groupby)"
   ]
  },
  {
   "cell_type": "markdown",
   "id": "06a0fbbc-4cb5-4a79-b505-14565b0ab2b9",
   "metadata": {},
   "source": [
    "Operations on a `dask` DataFrame are *lazy*, namely they are only computed whenever they are actually needed. "
   ]
  },
  {
   "cell_type": "code",
   "execution_count": null,
   "id": "372a2157-bac6-4ffa-b658-a25d9edba915",
   "metadata": {},
   "outputs": [],
   "source": [
    "df_dask_volume.info"
   ]
  },
  {
   "cell_type": "code",
   "execution_count": null,
   "id": "4932f2c4-2854-462f-8e99-41d0f1417c07",
   "metadata": {},
   "outputs": [],
   "source": [
    "df_dask_volume.index"
   ]
  },
  {
   "cell_type": "code",
   "execution_count": null,
   "id": "43a57de4-22b8-4ce5-9c91-b8937545e5cf",
   "metadata": {},
   "outputs": [],
   "source": [
    "df_dask_volume.head()"
   ]
  },
  {
   "cell_type": "code",
   "execution_count": null,
   "id": "bb647c56-499b-4d17-ab36-60533fccda5b",
   "metadata": {},
   "outputs": [],
   "source": [
    "#df_dask_volume.compute()"
   ]
  },
  {
   "cell_type": "markdown",
   "id": "92826d09-7c78-418b-a5d8-261c5cab329e",
   "metadata": {},
   "source": [
    "### Plotting?\n",
    "`matplotlib` is the go-to library for plotting `pandas` DataFrames. However, it can be very cumbersome with very large datasets. \n",
    "\n",
    "We use instead `hvplot` for `dask` DataFrames."
   ]
  },
  {
   "cell_type": "code",
   "execution_count": null,
   "id": "8567f4b0-8200-4fe5-8acb-ad09ec0df289",
   "metadata": {},
   "outputs": [],
   "source": [
    "import hvplot.dask"
   ]
  },
  {
   "cell_type": "code",
   "execution_count": null,
   "id": "f44e14ed-4817-4d28-9990-a1ca86530f0b",
   "metadata": {},
   "outputs": [],
   "source": [
    "df_dask_volume.hvplot.scatter(x='timeToExpDays', y='volume')"
   ]
  },
  {
   "cell_type": "code",
   "execution_count": null,
   "id": "417fe546-c0fe-4941-9604-3b336ac07bc2",
   "metadata": {},
   "outputs": [],
   "source": [
    "del df_dask_volume, df_dask"
   ]
  },
  {
   "cell_type": "markdown",
   "id": "c60e05e3-317c-4435-bb60-9cd7f0c87d6f",
   "metadata": {},
   "source": [
    "## Using `parquet` for partitioning\n",
    "Parquet is a popular, columnar file format designed for efficient data storage and retrieval."
   ]
  },
  {
   "cell_type": "code",
   "execution_count": null,
   "id": "b5bd9070-c44c-4f52-9826-01de79523821",
   "metadata": {},
   "outputs": [],
   "source": [
    "df_dask_part = dd.read_csv(pathToFile, blocksize=25e6)\n",
    "print(\"Number of partitions:\", df_dask_part.npartitions)"
   ]
  },
  {
   "cell_type": "code",
   "execution_count": null,
   "id": "f4c3609d-284f-4e59-89e2-daefca5fae76",
   "metadata": {},
   "outputs": [],
   "source": [
    "df_dask_part.to_parquet(\"../to/output\", name_function=lambda i: f\"data-{i}.parquet\")\n",
    "del df_dask_part"
   ]
  },
  {
   "cell_type": "code",
   "execution_count": null,
   "id": "a1d74952-4fd1-4557-97f0-57b9f8530735",
   "metadata": {},
   "outputs": [],
   "source": [
    "df_parq = dd.read_parquet(\"../to/output/\", name_function=lambda i: f\"data-{i}.parquet\", engine=\"pyarrow\", columns=[\"volume\", \"timeToExpDays\"])"
   ]
  },
  {
   "cell_type": "code",
   "execution_count": null,
   "id": "bf9ac531-5e28-44a8-bb53-1c7711913233",
   "metadata": {},
   "outputs": [],
   "source": [
    "df_parq.info()"
   ]
  },
  {
   "cell_type": "code",
   "execution_count": null,
   "id": "45943256-9456-4e31-a896-f7311d8ed31a",
   "metadata": {},
   "outputs": [],
   "source": [
    "t0 = time.time()\n",
    "df_dask_volume_parq = df_parq.groupby([\"timeToExpDays\"], dropna=False, observed=True).agg({\"volume\": \"sum\"})\n",
    "dt_parq_groupby = time.time() - t0\n",
    "print(\"parquet time: \", dt_parq_groupby)"
   ]
  },
  {
   "cell_type": "code",
   "execution_count": null,
   "id": "e4cd058e-5221-4f08-82f4-eac719b44b86",
   "metadata": {},
   "outputs": [],
   "source": [
    "df_dask_volume_parq.head()"
   ]
  },
  {
   "cell_type": "code",
   "execution_count": null,
   "id": "3ae7153c-ccd4-48cc-a984-b4e7e753bf73",
   "metadata": {},
   "outputs": [],
   "source": [
    "df_dask_volume_parq.sort_values(\"timeToExpDays\").head()"
   ]
  },
  {
   "cell_type": "code",
   "execution_count": null,
   "id": "db7faf9b-b9ba-4df4-8fc4-a6db28dfe5c5",
   "metadata": {},
   "outputs": [],
   "source": [
    "df_dask_volume_parq.hvplot.scatter(x='timeToExpDays', y='volume')"
   ]
  },
  {
   "cell_type": "code",
   "execution_count": null,
   "id": "ac94073b-ea9e-4b48-9ee4-889281f10efb",
   "metadata": {},
   "outputs": [],
   "source": [
    "del df_dask_volume_parq, df_parq"
   ]
  },
  {
   "cell_type": "markdown",
   "id": "4702a9f2-3271-41ea-b3d4-941a2667e33d",
   "metadata": {},
   "source": [
    "### Partitioning with fixed number of partitions"
   ]
  },
  {
   "cell_type": "code",
   "execution_count": null,
   "id": "37cbf0cc-af10-4122-8dcd-969dc30d76bf",
   "metadata": {},
   "outputs": [],
   "source": [
    "from dask.dataframe import from_pandas"
   ]
  },
  {
   "cell_type": "code",
   "execution_count": null,
   "id": "1926c02f-c738-4a93-9605-67660ab36745",
   "metadata": {},
   "outputs": [],
   "source": [
    "t0 = time.time()\n",
    "df_from_pandas = from_pandas(df_large, npartitions=5)\n",
    "dt_dask_part_import = time.time() - t0\n",
    "print(\"dask partitioning import: \", dt_dask_part_import)\n",
    "\n",
    "t0 = time.time()\n",
    "df_dask_volume_from_pandas = df_from_pandas.groupby([\"timeToExpDays\"], dropna=False, observed=True).agg({\"volume\": \"sum\"})\n",
    "dt_dask_part_groupby = time.time() - t0\n",
    "print(\"dask partitioning time: \", dt_dask_part_groupby)\n",
    "\n",
    "df_dask_volume_from_pandas.head()"
   ]
  },
  {
   "cell_type": "markdown",
   "id": "657b7a3d-12ec-411b-b525-227d3b8966f3",
   "metadata": {},
   "source": [
    "# PS: Overview of `pandas` alternatives\n",
    "source: https://www.altexsoft.com/blog/pandas-library/"
   ]
  },
  {
   "cell_type": "markdown",
   "id": "fd87f7a8-9072-4bd9-a804-2c53cd3617b9",
   "metadata": {},
   "source": [
    "<img src=\"pandas_alternatives.png\" align = \"left\" width=1000>\n"
   ]
  }
 ],
 "metadata": {
  "kernelspec": {
   "display_name": "Python 3 (ipykernel)",
   "language": "python",
   "name": "python3"
  },
  "language_info": {
   "codemirror_mode": {
    "name": "ipython",
    "version": 3
   },
   "file_extension": ".py",
   "mimetype": "text/x-python",
   "name": "python",
   "nbconvert_exporter": "python",
   "pygments_lexer": "ipython3",
   "version": "3.11.7"
  }
 },
 "nbformat": 4,
 "nbformat_minor": 5
}
