{
 "cells": [
  {
   "cell_type": "markdown",
   "metadata": {},
   "source": [
    "# **Python for Finance -- Pandas -- Assignment**\n",
    "---\n",
    "<img src=\"http://www.doc.ic.ac.uk/~afd/images/logo_imperial_college_london.png\" align = \"left\" width=200>\n",
    " <br><br><br><br>\n",
    " \n",
    "- Copyright (c) Antoine Jacquier, 2022. All rights reserved\n",
    "\n",
    "- Author: Antoine Jacquier <a.jacquier@imperial.ac.uk>\n",
    "\n",
    "- Platform: Tested on Windows 10 with Python 3.7"
   ]
  },
  {
   "cell_type": "markdown",
   "metadata": {},
   "source": [
    "# Problem 1: basics\n",
    "\n",
    "Finish the exercises from the main notebook"
   ]
  },
  {
   "cell_type": "markdown",
   "metadata": {},
   "source": [
    "# Problem 2: options data cleaning\n",
    "\n",
    "The file ```AMZN_options.csv``` contains European options data on Amazon. \n",
    "Recall that an option is a financial derivative that pays at expiration time $T$ and strike $K>0$:\n",
    "\n",
    "$$C(K,T)=(S_T-K)_+ \\text{  for a Call option}$$\n",
    "\n",
    "$$P(K,T)=(K-S_T)_+ \\text{  for a Put option}$$\n",
    "\n",
    "No-arbitrage theory tells us that Put-Call parity holds and takes the form\n",
    "\n",
    "$$C(K,T)-P(K,T)=S(T)-K\\cdot DF(T),$$\n",
    "\n",
    "where $S(T)$ is the underlying price and $DF(T)$ is the discount factor at time $T$.\n",
    "\n",
    "- Compute a new column ```mid_price``` corresponding to\n",
    "$$\\text{mid_price}=\\frac{\\text{bid}+\\text{ask}}{2}$$\n",
    "\n",
    "- For each available ```expiration_date``` perform a linear regression using the ```mid_price``` only for options ```whose trade_volume>25``` (both calls and puts need to satisfy this condition):\n",
    "\n",
    "$$C(K,T)-P(K,T)=a+b K,$$ \n",
    "where $a$ corresponds to $S(T)$ and $b$ corresponds to $DF(T)$.\n",
    "\n",
    "- Plot $S(T)$ and  $DF(T)$ as a function of $T$\n",
    "\n",
    "*Notes*: \n",
    "\n",
    "    + you may use `numpy.polyfit(x, y, deg=1)` to fit a linear regression and obtain the coefficients\n",
    "    \n",
    "    + maturities are quoted in years, so you may need to use the `datetime` package\n"
   ]
  },
  {
   "cell_type": "markdown",
   "metadata": {},
   "source": [
    "# Problem 3: implied volatility in the presence of interest rates\n",
    "*(Continuation of the problem from Session 3)*\n",
    "\n",
    "Using the forward prices $F(T)$ and Discount Factors $DF(T)$ obtained previously, calculate the implied volatility of each option using the  ```mid_price```. \n",
    "Recall that in the Black-Scholes model, the value of a European Call option on $(S_t)_{t\\geq 0}$ is given at inception by\n",
    "\n",
    "$$\n",
    "C^{\\mathrm{BS}}(S_0, K, T;\\sigma) = S(T)\\left(\\mathcal{N}(d_{+}) - DF(T)K\\mathcal{N}(d_{-})\\right),\n",
    "$$\n",
    "\n",
    "with \n",
    "\n",
    "$$\n",
    "d_{\\pm} := \\frac{\\log\\left(\\frac{F(T)}{K}\\right)}{\\sigma\\sqrt{T}} \\pm\\frac{\\sigma\\sqrt{T}}{2}\n",
    "\\qquad\\text{and}\\qquad\n",
    "F(T)=\\frac{S(T)}{DF(T)}.\n",
    "$$\n",
    "\n",
    "*Note: some mid prices might lead to arbitrage and the solution for implied volatility might not exist.*"
   ]
  },
  {
   "metadata": {},
   "cell_type": "code",
   "outputs": [],
   "execution_count": null,
   "source": ""
  }
 ],
 "metadata": {
  "kernelspec": {
   "display_name": "Python 3 (ipykernel)",
   "language": "python",
   "name": "python3"
  },
  "language_info": {
   "codemirror_mode": {
    "name": "ipython",
    "version": 3
   },
   "file_extension": ".py",
   "mimetype": "text/x-python",
   "name": "python",
   "nbconvert_exporter": "python",
   "pygments_lexer": "ipython3",
   "version": "3.9.7"
  }
 },
 "nbformat": 4,
 "nbformat_minor": 4
}
