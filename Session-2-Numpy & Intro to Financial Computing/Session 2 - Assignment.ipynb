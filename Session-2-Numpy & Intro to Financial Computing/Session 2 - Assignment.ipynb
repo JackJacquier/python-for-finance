{
 "cells": [
  {
   "cell_type": "markdown",
   "metadata": {},
   "source": [
    "# **NUMPY -- Exercises**\n",
    "## **MSc in Mathematics and Finance 2024-2025**\n",
    "---\n",
    "<img src=\"Imperial_logo.png\" align = \"left\" width=250>\n",
    " <br><br><br> "
   ]
  },
  {
   "cell_type": "markdown",
   "metadata": {},
   "source": [
    "# 1. Exercise:\n",
    "\n",
    "\n",
    "Write a piece of code to reverse a numpy array."
   ]
  },
  {
   "cell_type": "code",
   "execution_count": 2,
   "metadata": {},
   "outputs": [
    {
     "name": "stdout",
     "output_type": "stream",
     "text": [
      "[5 4 3 2 1]\n"
     ]
    }
   ],
   "source": []
  },
  {
   "cell_type": "markdown",
   "metadata": {},
   "source": [
    "# 2. Exercise\n",
    "\n",
    "Replace all odd values in an integer array with -1 e.g. [1, 2, 3, 4, 5, 6, 7, 8, 9] should be transofmed into [-1  2 -1  4 -1  6 -1  8 -1]\n"
   ]
  },
  {
   "cell_type": "code",
   "execution_count": 4,
   "metadata": {},
   "outputs": [
    {
     "name": "stdout",
     "output_type": "stream",
     "text": [
      "[-1  2 -1  4 -1  6 -1  8 -1]\n"
     ]
    }
   ],
   "source": []
  },
  {
   "cell_type": "markdown",
   "metadata": {},
   "source": [
    "# 3. Exercise\n",
    "  Given a 2D array, find the row with the largest sum."
   ]
  },
  {
   "cell_type": "code",
   "execution_count": 19,
   "metadata": {},
   "outputs": [],
   "source": [
    "import numpy as np\n",
    "\n",
    "def find_max_sum_row(arr):\n",
    "    \"\"\"\n",
    "     Args:\n",
    "    arr: A 2D NumPy array of integers.\n",
    "\n",
    "  Returns:\n",
    "    A 1D array with the row with the largest sum of values\n",
    "    \"\"\"\n",
    "    return\n",
    "\n",
    "\n"
   ]
  },
  {
   "cell_type": "markdown",
   "metadata": {},
   "source": [
    "# 4. Exercise\n",
    "Normalize an array so that its values range between 0 and 1. \n",
    "\n",
    "**Hint:** Compute the maximum and minimum value to map the maximum value to 1 and the minimum value to 0\n",
    "\n",
    "\n"
   ]
  },
  {
   "cell_type": "markdown",
   "metadata": {},
   "source": [
    "# 5. Exercise\n",
    "\n",
    " Given a 2D integer array, sort it by a specific column."
   ]
  },
  {
   "cell_type": "code",
   "execution_count": 6,
   "metadata": {},
   "outputs": [],
   "source": [
    "def sort_by_colum(arr,col):\n",
    "    \"\"\"\n",
    "     Args:\n",
    "    arr: A 2D NumPy array of integers.\n",
    "    col: column we want to sort (between 0 and num_cols -1)\n",
    "\n",
    "  Returns:\n",
    "    A 2D array where the column col is sorted in increasing order.\n",
    "    \"\"\"\n",
    "\n",
    "    return "
   ]
  },
  {
   "cell_type": "markdown",
   "metadata": {},
   "source": [
    "# 6. Exercise"
   ]
  },
  {
   "cell_type": "markdown",
   "metadata": {},
   "source": [
    " Given a 1D array of integers, write a function using NumPy to find the two numbers that sum closest to zero.\n",
    "\n",
    "This exercise encourages students to think about array manipulation, absolute values, and potentially sorting for an efficient solution."
   ]
  },
  {
   "cell_type": "code",
   "execution_count": 21,
   "metadata": {
    "scrolled": true
   },
   "outputs": [],
   "source": [
    "import numpy as np\n",
    "\n",
    "def find_closest_to_zero_sum(arr):\n",
    "  \"\"\"\n",
    "  Finds the two numbers in an array that sum closest to zero.\n",
    "\n",
    "  Args:\n",
    "    arr: A 1D NumPy array of integers.\n",
    "\n",
    "  Returns:\n",
    "    A tuple containing the two numbers.\n",
    "  \"\"\"\n",
    "  # Answer:\n",
    "\n",
    "  return \n",
    "\n"
   ]
  },
  {
   "cell_type": "markdown",
   "metadata": {},
   "source": [
    "# Exercise 7\n",
    " Implement a moving average filter with an integer window size on a 1D array."
   ]
  },
  {
   "cell_type": "code",
   "execution_count": 11,
   "metadata": {},
   "outputs": [],
   "source": [
    "def moving_average(arr, window_size):\n",
    "  \"\"\"\n",
    "  Calculates the moving average of an array.\n",
    "\n",
    "  Args:\n",
    "    arr: The input 1D NumPy array.\n",
    "    window_size: The size of the moving average window.\n",
    "\n",
    "  Returns:\n",
    "    A 1D NumPy array with the moving averages.\n",
    "  \"\"\"\n",
    "  # Answer:\n",
    " \n",
    "  return \n",
    "\n"
   ]
  }
 ],
 "metadata": {
  "kernelspec": {
   "display_name": "Python 3 (ipykernel)",
   "language": "python",
   "name": "python3"
  },
  "language_info": {
   "codemirror_mode": {
    "name": "ipython",
    "version": 3
   },
   "file_extension": ".py",
   "mimetype": "text/x-python",
   "name": "python",
   "nbconvert_exporter": "python",
   "pygments_lexer": "ipython3",
   "version": "3.12.3"
  }
 },
 "nbformat": 4,
 "nbformat_minor": 4
}
