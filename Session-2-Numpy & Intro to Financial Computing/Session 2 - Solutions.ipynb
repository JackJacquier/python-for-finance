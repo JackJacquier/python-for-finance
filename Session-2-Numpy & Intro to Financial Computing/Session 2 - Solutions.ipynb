{
 "cells": [
  {
   "cell_type": "markdown",
   "metadata": {},
   "source": [
    "# **NUMPY -- Exercises**\n",
    "## **MSc in Mathematics and Finance 2024-2025**\n",
    "---\n",
    "<img src=\"Imperial_logo.png\" align = \"left\" width=250>\n",
    " <br><br><br> "
   ]
  },
  {
   "cell_type": "markdown",
   "metadata": {},
   "source": [
    "# 1. Exercise:\n",
    "\n",
    "\n",
    "Write a piece of code to reverse a numpy array."
   ]
  },
  {
   "cell_type": "code",
   "execution_count": 1,
   "metadata": {},
   "outputs": [
    {
     "name": "stdout",
     "output_type": "stream",
     "text": [
      "[5 4 3 2 1]\n"
     ]
    }
   ],
   "source": [
    "import numpy as np\n",
    "\n",
    "arr = np.array([1, 2, 3, 4, 5])\n",
    "\n",
    "# Answer\n",
    "reversed_arr = arr[::-1]\n",
    "print(reversed_arr)  # Output: [5 4 3 2 1]"
   ]
  },
  {
   "cell_type": "markdown",
   "metadata": {},
   "source": [
    "# 2. Exercise\n",
    "\n",
    "Replace all odd values in an integer array with -1 e.g. [1, 2, 3, 4, 5, 6, 7, 8, 9] should be transofmed into [-1  2 -1  4 -1  6 -1  8 -1]\n"
   ]
  },
  {
   "cell_type": "code",
   "execution_count": 2,
   "metadata": {},
   "outputs": [
    {
     "name": "stdout",
     "output_type": "stream",
     "text": [
      "[-1  2 -1  4 -1  6 -1  8 -1]\n"
     ]
    }
   ],
   "source": [
    "import numpy as np\n",
    "\n",
    "arr = np.array([1, 2, 3, 4, 5, 6, 7, 8, 9])\n",
    "\n",
    "# Answer\n",
    "arr[arr % 2 != 0] = -1 # % is the modulo operator e.g. the reminder when dividing by 2, which is 0 when the number is even\n",
    "print(arr)  # Output: [-1  2 -1  4 -1  6 -1  8 -1]"
   ]
  },
  {
   "cell_type": "markdown",
   "metadata": {},
   "source": [
    "# 3. Exercise\n",
    "  Given a 2D array, find the row with the largest sum."
   ]
  },
  {
   "cell_type": "code",
   "execution_count": 3,
   "metadata": {},
   "outputs": [
    {
     "data": {
      "text/plain": [
       "array([7, 8, 9])"
      ]
     },
     "execution_count": 3,
     "metadata": {},
     "output_type": "execute_result"
    }
   ],
   "source": [
    "def find_max_sum_row(arr):\n",
    "    \"\"\"\n",
    "     Args:\n",
    "    arr: A 2D NumPy array of integers.\n",
    "\n",
    "  Returns:\n",
    "    A 1D array with the row with the largest sum of values\n",
    "    \"\"\"\n",
    "    row_sums = np.sum(arr, axis=1)\n",
    "    max_row_index = np.argmax(row_sums)\n",
    "    return arr[max_row_index]\n",
    "\n",
    "arr = np.array([[1, 2, 3],\n",
    "                [4, 5, 6],\n",
    "                [7, 8, 9]])\n",
    "\n",
    "# Answer\n",
    "find_max_sum_row(arr)"
   ]
  },
  {
   "cell_type": "markdown",
   "metadata": {},
   "source": [
    "# 4. Exercise\n",
    "Normalize an array so that its values range between 0 and 1. \n",
    "\n",
    "**Hint:** Compute the maximum and minimum value to map the maximum value to 1 and the minimum value to 0\n",
    "\n",
    "\n"
   ]
  },
  {
   "cell_type": "code",
   "execution_count": 4,
   "metadata": {},
   "outputs": [
    {
     "name": "stdout",
     "output_type": "stream",
     "text": [
      "[0.         0.57142857 0.14285714 1.         0.28571429]\n"
     ]
    }
   ],
   "source": [
    "import numpy as np\n",
    "\n",
    "arr = np.array([1, 5, 2, 8, 3])\n",
    "\n",
    "# Answer\n",
    "normalized_arr = (arr - np.min(arr)) / (np.max(arr) - np.min(arr))\n",
    "print(normalized_arr)  "
   ]
  },
  {
   "cell_type": "markdown",
   "metadata": {},
   "source": [
    "# 5. Exercise\n",
    "\n",
    " Given a 2D integer array, sort it by a specific column."
   ]
  },
  {
   "cell_type": "code",
   "execution_count": 5,
   "metadata": {},
   "outputs": [],
   "source": [
    "def sort_by_colum(arr,col):\n",
    "    \"\"\"\n",
    "     Args:\n",
    "    arr: A 2D NumPy array of integers.\n",
    "    col: column we want to sort\n",
    "\n",
    "  Returns:\n",
    "    A 2D array where the column col is sorted in increasing order.\n",
    "    \"\"\"\n",
    "    sorted_indices = np.argsort(arr[:, col])  # Sort by column col\n",
    "    return arr[sorted_indices]"
   ]
  },
  {
   "cell_type": "markdown",
   "metadata": {},
   "source": [
    "# 6. Exercise"
   ]
  },
  {
   "cell_type": "markdown",
   "metadata": {},
   "source": [
    " Given a 1D array of integers, write a function using NumPy to find the two numbers that sum closest to zero.\n",
    "\n",
    "This exercise encourages students to think about array manipulation, absolute values, and potentially sorting for an efficient solution."
   ]
  },
  {
   "cell_type": "code",
   "execution_count": 6,
   "metadata": {
    "scrolled": true
   },
   "outputs": [
    {
     "name": "stdout",
     "output_type": "stream",
     "text": [
      "(-6, 5)\n"
     ]
    }
   ],
   "source": [
    "import numpy as np\n",
    "\n",
    "def find_closest_to_zero_sum(arr):\n",
    "  \"\"\"\n",
    "  Finds the two numbers in an array that sum closest to zero.\n",
    "\n",
    "  Args:\n",
    "    arr: A 1D NumPy array of integers.\n",
    "\n",
    "  Returns:\n",
    "    A tuple containing the two numbers.\n",
    "  \"\"\"\n",
    "  # Answer:\n",
    "  arr = np.sort(arr)  # Sort the array\n",
    "  l, r = 0, len(arr) - 1\n",
    "  min_sum = np.inf\n",
    "  result = (None, None)\n",
    "  while l < r:\n",
    "    current_sum = arr[l] + arr[r]\n",
    "    if abs(current_sum) < abs(min_sum):\n",
    "      min_sum = current_sum\n",
    "      result = (arr[l], arr[r])\n",
    "    if current_sum < 0:\n",
    "      l += 1\n",
    "    else:\n",
    "      r -= 1\n",
    "  return result\n",
    "\n",
    "\n",
    "# Test the function\n",
    "arr = np.array([-2, 1, -3, 4, 5, -6])\n",
    "print(find_closest_to_zero_sum(arr)) "
   ]
  },
  {
   "cell_type": "markdown",
   "metadata": {},
   "source": [
    "# Exercise 7\n",
    " Implement a moving average filter with an integer window size on a 1D array."
   ]
  },
  {
   "cell_type": "code",
   "execution_count": 7,
   "metadata": {},
   "outputs": [
    {
     "name": "stdout",
     "output_type": "stream",
     "text": [
      "[2. 3. 4. 5. 6. 7. 8.]\n"
     ]
    }
   ],
   "source": [
    "import numpy as np\n",
    "\n",
    "def moving_average(arr, window_size):\n",
    "  \"\"\"\n",
    "  Calculates the moving average of an array.\n",
    "\n",
    "  Args:\n",
    "    arr: The input 1D NumPy array.\n",
    "    window_size: The size of the moving average window.\n",
    "\n",
    "  Returns:\n",
    "    A 1D NumPy array with the moving averages.\n",
    "  \"\"\"\n",
    "  # Answer:\n",
    "  cumsum = np.cumsum(arr)\n",
    "  cumsum[window_size:] = cumsum[window_size:] - cumsum[:-window_size]\n",
    "  return cumsum[window_size - 1:] / window_size\n",
    "\n",
    "\n",
    "arr = np.array([1,2, 3, 4, 5, 6, 7, 8, 9])\n",
    "window_size = 3\n",
    "result = moving_average(arr, window_size)\n",
    "print(result)  # Output: [2. 3. 4. 5. 6. 7. 8.]"
   ]
  }
 ],
 "metadata": {
  "kernelspec": {
   "display_name": "Python 3 (ipykernel)",
   "language": "python",
   "name": "python3"
  },
  "language_info": {
   "codemirror_mode": {
    "name": "ipython",
    "version": 3
   },
   "file_extension": ".py",
   "mimetype": "text/x-python",
   "name": "python",
   "nbconvert_exporter": "python",
   "pygments_lexer": "ipython3",
   "version": "3.12.3"
  }
 },
 "nbformat": 4,
 "nbformat_minor": 4
}
