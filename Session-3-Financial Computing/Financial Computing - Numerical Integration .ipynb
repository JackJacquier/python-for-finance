{
 "cells": [
  {
   "cell_type": "markdown",
   "id": "19cc0546-08e1-4842-810a-d139f7393584",
   "metadata": {},
   "source": [
    "# Importance of Numerical Integration for Quants\n",
    "\n",
    "Numerical optimization is a foundational tool in quantitative finance. It involves finding the best solution (maximum or minimum) to a problem under given constraints, often when analytical solutions are unavailable or impractical."
   ]
  },
  {
   "cell_type": "markdown",
   "id": "1f2ead21-d1e7-44b8-b021-dfa4b7d91837",
   "metadata": {},
   "source": [
    "| Quant Role                  | Primary Use Case                          | Integration Purpose                                           | Example Application                                      |\n",
    "|----------------------------|-------------------------------------------|---------------------------------------------------------------|----------------------------------------------------------|\n",
    "| Derivatives Pricing Quants | Pricing exotic and structured derivatives | Evaluate expected payoffs under complex distributions         | Barrier option pricing via log-normal integration        |\n",
    "| Risk Management Quants     | Estimating and managing financial risk    | Integrate over loss distributions to quantify tail risk       | Computing Expected Shortfall (CVaR) from loss PDF        |\n",
    "| Quant Researchers           | Model development and calibration         | Solve SDEs, compute likelihoods, fit models to market data    | Calibrating Heston model using numerical quadrature      |\n",
    "| Algorithmic Trading Quants | Designing statistical trading strategies  | Estimate expected returns and volatility from distributions   | Integrating return PDFs to compute Sharpe ratios         |\n",
    "| Quant Developers            | Building pricing and risk infrastructure | Implement efficient numerical integration routines            | Coding adaptive quadrature modules for pricing engines   |\n"
   ]
  },
  {
   "cell_type": "markdown",
   "id": "8d667f11-a007-4795-a582-6f6960e7f809",
   "metadata": {},
   "source": [
    "### Numerical quadrature for integration\n",
    "\n",
    "We will start this notebook with the following example. $$f(x)=e^{-x^2}$$"
   ]
  },
  {
   "cell_type": "code",
   "execution_count": 8,
   "id": "2f5d1038-538d-426c-9a7d-8f218fe12b86",
   "metadata": {
    "scrolled": true
   },
   "outputs": [
    {
     "data": {
      "image/png": "[encoded data removed]",
      "text/plain": [
       "<Figure size 640x480 with 1 Axes>"
      ]
     },
     "metadata": {},
     "output_type": "display_data"
    }
   ],
   "source": [
    "import numpy as np\n",
    "import matplotlib.pyplot as plt\n",
    "\n",
    "# Define a sample function\n",
    "def f(x):\n",
    "    return np.exp(-x**2)\n",
    "\n",
    "x = np.linspace(-3, 3, 100)\n",
    "y = f(x)\n",
    "\n",
    "plt.plot(x, y)\n",
    "plt.title(\"Function: $e^{-x^2}$\")\n",
    "plt.xlabel(\"x\")\n",
    "plt.ylabel(\"f(x)\")\n",
    "plt.grid(True)\n",
    "plt.show()"
   ]
  },
  {
   "cell_type": "markdown",
   "id": "75d8d6f9-9bb3-4573-a493-6e578de46d59",
   "metadata": {},
   "source": [
    "Let us now tackle the problem of computing $$\\int_{-\\infty}^\\infty e^{-x^2}dx$$\n",
    "numerically.\n",
    "### A simple approach: the trapezoidal rule\n",
    "\n",
    "From the definition of the Riemann integral we may approximmate \n",
    "$$\\int_a^b f(x)dx\\approx \\sum_{i=1}^n \\frac{f(x_{i-1})+f(x_i)}{2}\\Delta x=\\left(\\frac{f(x_0)+f(x_N)}{2}+\\sum_{i=1}^{n-1} +f(x_i)\\right)\\Delta x$$ for a suitable equidistant partition $x_0<x_1,...<x_n$ with $x_0=a$ and $x_n=b$ such that $x_{i+1}-x_i=\\Delta x$.\n",
    "\n",
    "**Note:** In the case where $a$ or $b$ is $\\infty$ we have to truncate the numerical approximation."
   ]
  },
  {
   "cell_type": "code",
   "execution_count": 13,
   "id": "ee64b6ed-7bc7-4ad6-917c-0abd056ffeed",
   "metadata": {},
   "outputs": [
    {
     "name": "stdout",
     "output_type": "stream",
     "text": [
      "Manual trapezoidal result: 1.772454\n"
     ]
    }
   ],
   "source": [
    "def trapezoidal_rule(func, a, b, n):\n",
    "    x = np.linspace(a, b, n+1)\n",
    "    y = func(x)\n",
    "    dx = (b - a) / n\n",
    "    area = (y[0] + y[-1]) / 2 + np.sum(y[1:-1])\n",
    "    return dx * area\n",
    "\n",
    "manual_result = trapezoidal_rule(f, a=-5, b=5, n=1000)\n",
    "print(f\"Manual trapezoidal result: {manual_result:.6f}\")"
   ]
  },
  {
   "cell_type": "markdown",
   "id": "09566042-34a4-4a4a-857f-6ea87e5c09cd",
   "metadata": {},
   "source": [
    "### Scipy's Integration suite\n",
    "\n",
    "As we have discussed, Scipy offers a large suite of numerical methods. We will now focus on the integration suite. The main function tha you will be using to perform a numerical integration is `scipy.integrate` https://docs.scipy.org/doc/scipy/tutorial/integrate.html\n",
    "\n",
    "In particular, when performing 1D integration you will use `scipy.integrate.quad` https://docs.scipy.org/doc/scipy/reference/generated/scipy.integrate.quad.html#scipy.integrate.quad"
   ]
  },
  {
   "cell_type": "code",
   "execution_count": 12,
   "id": "1f89bef3-5746-4891-aced-778dd3dc1ef8",
   "metadata": {},
   "outputs": [
    {
     "name": "stdout",
     "output_type": "stream",
     "text": [
      "Integral result: 1.7725, Estimated error: 1.42e-08\n"
     ]
    }
   ],
   "source": [
    "from scipy.integrate import quad\n",
    "\n",
    "# Integrate f(x) from -∞ to ∞\n",
    "result, error = quad(f, -np.inf, np.inf)\n",
    "print(f\"Integral result: {result:.4f}, Estimated error: {error:.2e}\")"
   ]
  },
  {
   "cell_type": "markdown",
   "id": "bcb87dc5-f197-4b6c-9709-bbd1db3fbd56",
   "metadata": {},
   "source": [
    "### A financial example with the Black Scholes model and a European Call option\n",
    "\n",
    "As you will learn this year, the Black-Scholes model establishes that the dynamics of a stock price are given by (without interest rates or dividends)\n",
    "\n",
    "$$S_t=S_0e^{\\sigma W_t-\\frac{\\sigma^2t}{2}}\\quad \\text{with }W_t\\sim\\mathcal{N}(0,t) $$\n",
    "\n",
    "A European Call option is a derivative with payoff given by:\n",
    "$$(S_T-K)^+=(S_T-K)\\mathcal{1}_{\\{S_T>K\\}}.$$\n",
    "\n",
    "Using risk Neutral pricing we know that the fair price of a European call option $C(K,T)$ is given by\n",
    "$$C(K,T)=\\mathbb{E}[(S_T-K)^+]$$\n",
    "Since the distribution of $S_T$ is known in the Black-Scholes model, we may easily translate this pricing problem into an integral representation i.e.\n",
    "\n",
    "$$C(K,T)=\\mathbb{E}[(S_T-K)^+]=\\int_{-\\infty}^\\infty (S_0e^{\\sigma x-\\frac{\\sigma^2T}{2}}-K)\\mathcal{1}_{\\{S_0e^{\\sigma x-\\frac{\\sigma^2T}{2}}>K\\}} \\phi(x) dx $$\n",
    "where $\\phi(x)$ is the pdf of Gaussian rangom variable with variance $T$, .i.e.\n",
    "\n",
    "$$\\phi(x)=\\frac{1}{\\sqrt{2\\pi T}}e^{-\\frac{-x^2}{2T}}$$"
   ]
  },
  {
   "cell_type": "code",
   "execution_count": 23,
   "id": "202d3a09-a445-48f6-8c42-bf2203922d68",
   "metadata": {},
   "outputs": [],
   "source": [
    "def phi(x,T):\n",
    "    return 1.0/np.sqrt(2*np.pi*T)*np.exp(-0.5/T*x**2)\n",
    "def S_T(x,S0,sigma,T):\n",
    "    return S0*np.exp(sigma*x-0.5*T*sigma**2)\n",
    "def integrand(x,S0,sigma,T,K):\n",
    "    return (S_T(x,S0,sigma,T)>K)*(S_T(x,S0,sigma,T)-K)*phi(x,T)"
   ]
  },
  {
   "cell_type": "code",
   "execution_count": 24,
   "id": "46340528-3967-4b5f-87ab-7849a8229602",
   "metadata": {},
   "outputs": [
    {
     "name": "stdout",
     "output_type": "stream",
     "text": [
      "Integral result: 7.9656, Estimated error: 9.42e-08\n"
     ]
    }
   ],
   "source": [
    "S0=100\n",
    "K=100\n",
    "sigma=0.2\n",
    "T=1\n",
    "result, error = quad(integrand, -np.inf, np.inf,args=(S0,sigma,T,K))\n",
    "print(f\"Integral result: {result:.4f}, Estimated error: {error:.2e}\")"
   ]
  },
  {
   "cell_type": "markdown",
   "id": "2a57c6e4-b11a-4eed-83dd-795f6e2089a5",
   "metadata": {},
   "source": [
    "We can cross-check the result against the Black-Scholes formula\n",
    "\n",
    "\n",
    "### Call Option Price\n",
    "\n",
    "\n",
    "\n",
    "$$\n",
    "C = S_0 \\cdot N(d_1) - K  \\cdot N(d_2)\n",
    "$$\n",
    "\n",
    "\n",
    "\n",
    "Where:\n",
    "\n",
    "\n",
    "\n",
    "$$\n",
    "d_1 = \\frac{\\ln(S_0 / K) + ( \\frac{1}{2} \\sigma^2) T}{\\sigma \\sqrt{T}}, \\quad\n",
    "d_2 = d_1 - \\sigma \\sqrt{T}\n",
    "$$\n",
    "\n",
    "\n",
    "\n",
    "**Variables:**\n",
    "- $ S_0 $: Current stock price\n",
    "- $ K $: Strike price\n",
    "- $ T $: Time to maturity (in years)\n",
    "- $ \\sigma $: Volatility\n",
    "- $ N(\\cdot) $: Cumulative distribution function of the standard normal distribution"
   ]
  },
  {
   "cell_type": "code",
   "execution_count": 28,
   "id": "6ad2c27d-bd2b-4705-9aed-0ed97638da31",
   "metadata": {},
   "outputs": [],
   "source": [
    "from scipy.stats import norm\n",
    "\n",
    "def black_scholes_call(S0, K, T, sigma):\n",
    "    \"\"\"\n",
    "    Black-Scholes formula for European options.\n",
    "    \n",
    "    Parameters:\n",
    "    S0 : float - initial stock price\n",
    "    K : float - strike price\n",
    "    T : float - time to maturity (in years)\n",
    "    sigma : float - volatility\n",
    "    \n",
    "    Returns:\n",
    "    float - option price\n",
    "    \"\"\"\n",
    "    d1 = (np.log(S0 / K) + ( 0.5 * sigma**2) * T) / (sigma * np.sqrt(T))\n",
    "    d2 = d1 - sigma * np.sqrt(T)\n",
    "    \n",
    "    price = S0 * norm.cdf(d1) - K  * norm.cdf(d2)\n",
    "    \n",
    "    return price"
   ]
  },
  {
   "cell_type": "code",
   "execution_count": 29,
   "id": "394c145a-9d8a-4ef5-80e7-9f1ddd0883dd",
   "metadata": {},
   "outputs": [
    {
     "data": {
      "text/plain": [
       "np.float64(7.965567455405804)"
      ]
     },
     "execution_count": 29,
     "metadata": {},
     "output_type": "execute_result"
    }
   ],
   "source": [
    "black_scholes_call(S0, K, T, sigma)"
   ]
  }
 ],
 "metadata": {
  "kernelspec": {
   "display_name": "Python 3 (ipykernel)",
   "language": "python",
   "name": "python3"
  },
  "language_info": {
   "codemirror_mode": {
    "name": "ipython",
    "version": 3
   },
   "file_extension": ".py",
   "mimetype": "text/x-python",
   "name": "python",
   "nbconvert_exporter": "python",
   "pygments_lexer": "ipython3",
   "version": "3.12.3"
  }
 },
 "nbformat": 4,
 "nbformat_minor": 5
}
