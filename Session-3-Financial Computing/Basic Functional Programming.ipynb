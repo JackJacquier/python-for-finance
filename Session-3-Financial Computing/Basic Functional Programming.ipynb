{
 "cells": [
  {
   "cell_type": "markdown",
   "id": "f7cac19d-cb74-491b-bd24-96373ed83042",
   "metadata": {},
   "source": [
    "# Functional Programming  in Python\n",
    "\n",
    "\n",
    "Functional programming is a programming paradigm where computation is treated as the evaluation of mathematical functions. It emphasizes **immutability**, **pure functions**, and **function composition**.\n",
    "\n",
    "## Key Concepts\n",
    "\n",
    "- **Pure Functions**: Always return the same output for the same input and have no side effects.\n",
    "- **Immutability**: Data cannot be modified after creation.\n",
    "- **First-Class Functions**: Functions can be passed as arguments, returned from other functions, and assigned to variables.\n",
    "- **Higher-Order Functions**: Functions that take other functions as arguments or return them.\n",
    "- **Declarative Style**: Focuses on *what* to do rather than *how* to do it.\n"
   ]
  },
  {
   "cell_type": "markdown",
   "id": "9ce9cfd6-1b03-4cbf-a25d-a161e6d604d0",
   "metadata": {},
   "source": [
    "## 1. Pure Functions\n",
    "\n",
    "Pure functions always return the same output for the same input and have no side effects.\n"
   ]
  },
  {
   "cell_type": "code",
   "execution_count": 8,
   "id": "aeffd228-4033-4b73-98f1-f61aa8bf059e",
   "metadata": {},
   "outputs": [
    {
     "name": "stdout",
     "output_type": "stream",
     "text": [
      "7\n",
      "7\n"
     ]
    }
   ],
   "source": [
    "def pure_add(x, y):\n",
    "    return x + y\n",
    "\n",
    "print(pure_add(3, 4))\n",
    "print(pure_add(3, 4))# Always returns 7\n"
   ]
  },
  {
   "cell_type": "markdown",
   "id": "2dd7f30f-9e69-46df-a094-757461f7f1ed",
   "metadata": {},
   "source": [
    "**Note** The idea of a pure function is that if you run it twice in a row it should return the same output.\n",
    "## 🚨 Risks of Mutation in functional programming"
   ]
  },
  {
   "cell_type": "code",
   "execution_count": 19,
   "id": "c81351e8-0c22-44e9-a5c3-d9ea3714cf33",
   "metadata": {},
   "outputs": [],
   "source": [
    "def list_squared(input_list):\n",
    "    for i in range(len(input_list)):\n",
    "        input_list[i]=input_list[i]**2\n",
    "    return input_list"
   ]
  },
  {
   "cell_type": "code",
   "execution_count": 20,
   "id": "b1b04c39-4deb-4c99-aed2-fa42c65ba5c8",
   "metadata": {},
   "outputs": [
    {
     "name": "stdout",
     "output_type": "stream",
     "text": [
      "[4, 16, 36, 64]\n",
      "[16, 256, 1296, 4096]\n"
     ]
    }
   ],
   "source": [
    "my_list=[2,4,6,8]\n",
    "print(list_squared(my_list))\n",
    "print(list_squared(my_list))"
   ]
  },
  {
   "cell_type": "markdown",
   "id": "4eb428e0-bf54-4420-98ec-2af0e2a05ab8",
   "metadata": {},
   "source": [
    "## 2. First-Class and Higher-Order Functions\n",
    "\n",
    "Functions can be passed as arguments, returned from other functions, and assigned to variables.\n"
   ]
  },
  {
   "cell_type": "code",
   "execution_count": 9,
   "id": "faaf5a0a-9ba3-4c59-a011-77c576f25414",
   "metadata": {},
   "outputs": [
    {
     "name": "stdout",
     "output_type": "stream",
     "text": [
      "[1, 4, 9, 16]\n",
      "[1, 4, 9, 16]\n"
     ]
    }
   ],
   "source": [
    "def square(x):\n",
    "    return x * x\n",
    "\n",
    "def apply_function(f, values):\n",
    "    return [f(v) for v in values]\n",
    "\n",
    "print(apply_function(square, [1, 2, 3, 4]))\n"
   ]
  },
  {
   "cell_type": "markdown",
   "id": "20dc4f1d-b676-4e46-b37d-1568f5b9903a",
   "metadata": {},
   "source": [
    "## 3. Lambda Expressions\n",
    "\n",
    "Anonymous functions defined with `lambda` are useful for short, throwaway functions.\n"
   ]
  },
  {
   "cell_type": "code",
   "execution_count": 10,
   "id": "abb5e4df-8281-403b-aa11-a46e17cfc8b4",
   "metadata": {},
   "outputs": [
    {
     "name": "stdout",
     "output_type": "stream",
     "text": [
      "10\n"
     ]
    }
   ],
   "source": [
    "double = lambda x: x * 2\n",
    "print(double(5))\n"
   ]
  },
  {
   "cell_type": "markdown",
   "id": "b51898f0-1009-4d77-a6e1-f6b38c658fb5",
   "metadata": {},
   "source": [
    "We can also define lambda functions with multiple inputs and outputs"
   ]
  },
  {
   "cell_type": "code",
   "execution_count": 11,
   "id": "97e49e90-53de-40e1-a503-b608cae3d5af",
   "metadata": {},
   "outputs": [
    {
     "name": "stdout",
     "output_type": "stream",
     "text": [
      "15\n"
     ]
    }
   ],
   "source": [
    "my_lambda_sum=lambda a,b:a+b\n",
    "print(my_lambda_sum(5,10))"
   ]
  },
  {
   "cell_type": "code",
   "execution_count": 12,
   "id": "39300f66-4545-45f5-be59-b8848cdef1bb",
   "metadata": {},
   "outputs": [
    {
     "name": "stdout",
     "output_type": "stream",
     "text": [
      "[2.6, 3]\n"
     ]
    }
   ],
   "source": [
    "division_and_reminder=lambda a,b:[a/b,a%b]\n",
    "print(division_and_reminder(13,5))"
   ]
  },
  {
   "cell_type": "markdown",
   "id": "b7689fa9-e173-48f9-88ca-ac3d55c19ac2",
   "metadata": {},
   "source": [
    "## 4. Built-in Functional Tools\n",
    "\n",
    "Python provides `map`, `filter`, and `reduce` for functional-style data processing.\n",
    "\n",
    "1. `map` **Purpose**: Applies a function to every item in an iterable (like a list) and returns a new iterable (a map object).\n"
   ]
  },
  {
   "cell_type": "code",
   "execution_count": 6,
   "id": "b0d15570-a203-4f75-ae17-c58a28dbd21b",
   "metadata": {},
   "outputs": [
    {
     "name": "stdout",
     "output_type": "stream",
     "text": [
      "[1, 4, 9, 16]\n"
     ]
    }
   ],
   "source": [
    "def square(x):\n",
    "    return x * x\n",
    "\n",
    "numbers = [1, 2, 3, 4]\n",
    "squared = list(map(square, numbers))\n",
    "print(squared)  # [1, 4, 9, 16]"
   ]
  },
  {
   "cell_type": "markdown",
   "id": "b61c8d5b-6853-41e3-a10a-28390c92dd41",
   "metadata": {},
   "source": [
    "2. `filter` **Purpose**: Filters elements from an iterable based on a predicate function (returns True or False)."
   ]
  },
  {
   "cell_type": "code",
   "execution_count": 7,
   "id": "ffccd896-8990-4728-b412-85c8ede173fb",
   "metadata": {},
   "outputs": [
    {
     "name": "stdout",
     "output_type": "stream",
     "text": [
      "[2, 4]\n"
     ]
    }
   ],
   "source": [
    "def is_even(x):\n",
    "    return x % 2 == 0\n",
    "\n",
    "numbers = [1, 2, 3, 4, 5]\n",
    "evens = list(filter(is_even, numbers))\n",
    "print(evens)  # [2, 4]"
   ]
  },
  {
   "cell_type": "markdown",
   "id": "024d93f5-c878-42fe-9c34-84927991c945",
   "metadata": {},
   "source": [
    "3. `reduce` **Purpose**: Applies a rolling computation to sequential pairs of values in an iterable, reducing it to a single result i.e. for a list [x,y,z] and a function that takes to variables a maps to a fingle value $f(a,b)$ applies $f(f(x,y),z)$\n"
   ]
  },
  {
   "cell_type": "code",
   "execution_count": 23,
   "id": "36c991ca-09eb-4237-8027-f8c855a1ff9d",
   "metadata": {},
   "outputs": [
    {
     "name": "stdout",
     "output_type": "stream",
     "text": [
      "24\n"
     ]
    }
   ],
   "source": [
    "from functools import reduce\n",
    "\n",
    "def multiply(x, y):\n",
    "    return x * y\n",
    "\n",
    "numbers = [1, 2, 3, 4]\n",
    "product = reduce(multiply, numbers)\n",
    "print(product)  # 24"
   ]
  },
  {
   "cell_type": "markdown",
   "id": "febdbd67-53d2-4099-9c22-56cb8f386a6e",
   "metadata": {},
   "source": [
    "## 5. Declarative Style\n",
    "\n",
    "In declarative programming, you describe the desired outcome or logic of a computation without explicitly detailing the control flow or operations needed to achieve it. The underlying system or language implementation figures out the how.\n",
    "\n",
    "### Key Features\n",
    "**Focus on results**: You specify what you want, not how to get it (a package may take care of the heavy lift).\n",
    "\n",
    "**No explicit control flow**: You avoid loops, conditionals, and state mutations (i.e. use numpy vectorized solutions).\n",
    "\n",
    "**Often uses expressions**: Instead of commands, you use expressions that describe relationships or transformations (i.e. x**2 instead of a for loop to square each element)."
   ]
  },
  {
   "cell_type": "code",
   "execution_count": 21,
   "id": "cb4d6801-bcc6-44a5-b280-d813024137e1",
   "metadata": {},
   "outputs": [
    {
     "name": "stdout",
     "output_type": "stream",
     "text": [
      "Original (°C): [15.5 18.2 21.  24.3 28.  30.5 12. ]\n",
      "Converted (°F): [59.9  64.76 69.8  75.74 82.4  86.9  53.6 ]\n",
      "Hot Days (°F): [75.74 82.4  86.9 ]\n",
      "Average Hot Day Temp (°F): 81.68\n"
     ]
    }
   ],
   "source": [
    "import numpy as np\n",
    "\n",
    "# Original data (Celsius) — immutable input\n",
    "temps_celsius = np.array([15.5, 18.2, 21.0, 24.3, 28.0, 30.5, 12.0])\n",
    "\n",
    "# Step 1: Convert to Fahrenheit (pure transformation)\n",
    "temps_fahrenheit = temps_celsius * 9/5 + 32\n",
    "\n",
    "# Step 2: Filter days >= 70°F\n",
    "hot_days = temps_fahrenheit[temps_fahrenheit >= 70]\n",
    "\n",
    "# Step 3: Compute average\n",
    "average_hot = np.mean(hot_days)\n",
    "\n",
    "print(\"Original (°C):\", temps_celsius)\n",
    "print(\"Converted (°F):\", temps_fahrenheit)\n",
    "print(\"Hot Days (°F):\", hot_days)\n",
    "print(\"Average Hot Day Temp (°F):\", average_hot)"
   ]
  },
  {
   "cell_type": "markdown",
   "id": "306a2749-2cbe-4963-818d-83e9b4b20992",
   "metadata": {},
   "source": [
    "This is an example of declarative programming because:\n",
    "\n",
    "1. No loops or mutation\n",
    "\n",
    "2. Each step is a pure transformation that returns a new array\n",
    "\n",
    "3. Expresses what we want (convert, filter, average), not how to iterate"
   ]
  },
  {
   "cell_type": "markdown",
   "id": "925f0711-0193-40e0-a7eb-f2f142501498",
   "metadata": {},
   "source": [
    "### Most of prototyping in Python for Quantitatve Finance is done using declarative style programming for readability reasons, but also to benefit from already implemented libraries"
   ]
  }
 ],
 "metadata": {
  "kernelspec": {
   "display_name": "Python 3 (ipykernel)",
   "language": "python",
   "name": "python3"
  },
  "language_info": {
   "codemirror_mode": {
    "name": "ipython",
    "version": 3
   },
   "file_extension": ".py",
   "mimetype": "text/x-python",
   "name": "python",
   "nbconvert_exporter": "python",
   "pygments_lexer": "ipython3",
   "version": "3.12.3"
  }
 },
 "nbformat": 4,
 "nbformat_minor": 5
}
